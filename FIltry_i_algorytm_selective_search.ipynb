{
 "cells": [
  {
   "cell_type": "code",
   "execution_count": 46,
   "id": "e224be08",
   "metadata": {},
   "outputs": [],
   "source": [
    "import matplotlib.pyplot as plt\n",
    "import cv2 as cv\n",
    "import numpy as np\n",
    "import copy"
   ]
  },
  {
   "cell_type": "code",
   "execution_count": 47,
   "id": "8e2e7276",
   "metadata": {},
   "outputs": [],
   "source": [
    "img = cv.imread(r\"C:\\Users\\tomekg\\Desktop\\lena.png\")\n",
    "img_gray = copy.deepcopy(img)"
   ]
  },
  {
   "cell_type": "code",
   "execution_count": 48,
   "id": "8d11f125",
   "metadata": {},
   "outputs": [
    {
     "data": {
      "text/plain": [
       "628"
      ]
     },
     "execution_count": 48,
     "metadata": {},
     "output_type": "execute_result"
    }
   ],
   "source": [
    "img_gray.shape[0]"
   ]
  },
  {
   "cell_type": "code",
   "execution_count": 49,
   "id": "85600c3e",
   "metadata": {},
   "outputs": [
    {
     "data": {
      "text/plain": [
       "661"
      ]
     },
     "execution_count": 49,
     "metadata": {},
     "output_type": "execute_result"
    }
   ],
   "source": [
    "img_gray.shape[1]"
   ]
  },
  {
   "cell_type": "code",
   "execution_count": 50,
   "id": "c95d3cc8",
   "metadata": {},
   "outputs": [
    {
     "data": {
      "text/plain": [
       "-1"
      ]
     },
     "execution_count": 50,
     "metadata": {},
     "output_type": "execute_result"
    }
   ],
   "source": [
    "cv.imshow('image', img_gray)\n",
    "cv.waitKey(0)"
   ]
  },
  {
   "cell_type": "code",
   "execution_count": 51,
   "id": "212e1cb5",
   "metadata": {},
   "outputs": [],
   "source": [
    "img_grid = copy.deepcopy(img_gray)"
   ]
  },
  {
   "cell_type": "code",
   "execution_count": 52,
   "id": "65dce42c",
   "metadata": {},
   "outputs": [
    {
     "data": {
      "text/plain": [
       "-1"
      ]
     },
     "execution_count": 52,
     "metadata": {},
     "output_type": "execute_result"
    }
   ],
   "source": [
    "i = 0\n",
    "for h in range(0, img_gray.shape[0], int(img_gray.shape[0] / 26)):\n",
    "    cv.line(img_grid, (0, h), (img_gray.shape[1], h), (0, 0, 255), 1)\n",
    "\n",
    "for w in range(0, img_gray.shape[1], int(img_gray.shape[1] / 26)):\n",
    "    cv.line(img_grid, (w, 0), (w, img_gray.shape[1]), (0, 0, 255), 1)\n",
    "\n",
    "cv.imshow('image', img_grid)\n",
    "cv.waitKey(0)"
   ]
  },
  {
   "cell_type": "code",
   "execution_count": 53,
   "id": "f6551bd8",
   "metadata": {},
   "outputs": [
    {
     "data": {
      "text/plain": [
       "True"
      ]
     },
     "execution_count": 53,
     "metadata": {},
     "output_type": "execute_result"
    }
   ],
   "source": [
    "cv.imwrite('lena_grid.png', img_grid)"
   ]
  },
  {
   "cell_type": "code",
   "execution_count": 54,
   "id": "3ffa65ff",
   "metadata": {},
   "outputs": [
    {
     "data": {
      "text/plain": [
       "True"
      ]
     },
     "execution_count": 54,
     "metadata": {},
     "output_type": "execute_result"
    }
   ],
   "source": [
    "gauss = cv.GaussianBlur(img_gray, (5, 5), 0)\n",
    "cv.imwrite('gauss.jpg', gauss)"
   ]
  },
  {
   "cell_type": "code",
   "execution_count": 56,
   "id": "fda59828",
   "metadata": {},
   "outputs": [
    {
     "data": {
      "text/plain": [
       "True"
      ]
     },
     "execution_count": 56,
     "metadata": {},
     "output_type": "execute_result"
    }
   ],
   "source": [
    "laplace = cv.Laplacian(img_gray, cv.CV_64F)\n",
    "cv.imwrite('laplace.jpg', laplace)"
   ]
  },
  {
   "cell_type": "code",
   "execution_count": 57,
   "id": "890130fd",
   "metadata": {},
   "outputs": [
    {
     "name": "stdout",
     "output_type": "stream",
     "text": [
      "Requirement already satisfied: selectivesearch in c:\\users\\tomekg\\anaconda3\\lib\\site-packages (0.4)\n",
      "Requirement already satisfied: scikit-image in c:\\users\\tomekg\\anaconda3\\lib\\site-packages (from selectivesearch) (0.18.1)\n",
      "Requirement already satisfied: numpy in c:\\users\\tomekg\\anaconda3\\lib\\site-packages (from selectivesearch) (1.20.1)\n",
      "Requirement already satisfied: scipy>=1.0.1 in c:\\users\\tomekg\\anaconda3\\lib\\site-packages (from scikit-image->selectivesearch) (1.6.2)\n",
      "Requirement already satisfied: matplotlib!=3.0.0,>=2.0.0 in c:\\users\\tomekg\\anaconda3\\lib\\site-packages (from scikit-image->selectivesearch) (3.3.4)\n",
      "Requirement already satisfied: networkx>=2.0 in c:\\users\\tomekg\\anaconda3\\lib\\site-packages (from scikit-image->selectivesearch) (2.5)\n",
      "Requirement already satisfied: pillow!=7.1.0,!=7.1.1,>=4.3.0 in c:\\users\\tomekg\\anaconda3\\lib\\site-packages (from scikit-image->selectivesearch) (8.2.0)\n",
      "Requirement already satisfied: imageio>=2.3.0 in c:\\users\\tomekg\\anaconda3\\lib\\site-packages (from scikit-image->selectivesearch) (2.9.0)\n",
      "Requirement already satisfied: tifffile>=2019.7.26 in c:\\users\\tomekg\\anaconda3\\lib\\site-packages (from scikit-image->selectivesearch) (2021.4.8)\n",
      "Requirement already satisfied: PyWavelets>=1.1.1 in c:\\users\\tomekg\\anaconda3\\lib\\site-packages (from scikit-image->selectivesearch) (1.1.1)\n",
      "Requirement already satisfied: cycler>=0.10 in c:\\users\\tomekg\\anaconda3\\lib\\site-packages (from matplotlib!=3.0.0,>=2.0.0->scikit-image->selectivesearch) (0.10.0)\n",
      "Requirement already satisfied: python-dateutil>=2.1 in c:\\users\\tomekg\\anaconda3\\lib\\site-packages (from matplotlib!=3.0.0,>=2.0.0->scikit-image->selectivesearch) (2.8.1)\n",
      "Requirement already satisfied: kiwisolver>=1.0.1 in c:\\users\\tomekg\\anaconda3\\lib\\site-packages (from matplotlib!=3.0.0,>=2.0.0->scikit-image->selectivesearch) (1.3.1)\n",
      "Requirement already satisfied: pyparsing!=2.0.4,!=2.1.2,!=2.1.6,>=2.0.3 in c:\\users\\tomekg\\anaconda3\\lib\\site-packages (from matplotlib!=3.0.0,>=2.0.0->scikit-image->selectivesearch) (2.4.7)\n",
      "Requirement already satisfied: six in c:\\users\\tomekg\\anaconda3\\lib\\site-packages (from cycler>=0.10->matplotlib!=3.0.0,>=2.0.0->scikit-image->selectivesearch) (1.15.0)\n",
      "Requirement already satisfied: decorator>=4.3.0 in c:\\users\\tomekg\\anaconda3\\lib\\site-packages (from networkx>=2.0->scikit-image->selectivesearch) (5.0.6)\n"
     ]
    }
   ],
   "source": [
    "!pip install selectivesearch"
   ]
  },
  {
   "cell_type": "code",
   "execution_count": 63,
   "id": "21aadae7",
   "metadata": {},
   "outputs": [
    {
     "name": "stdout",
     "output_type": "stream",
     "text": [
      "71 43 548 525\n",
      "71 44 531 524\n",
      "71 19 548 549\n",
      "71 7 548 561\n",
      "131 348 201 221\n",
      "446 443 138 125\n",
      "138 59 376 347\n",
      "27 525 85 102\n",
      "193 102 392 468\n",
      "1 525 111 102\n",
      "73 57 512 513\n",
      "71 44 533 524\n",
      "71 43 539 525\n",
      "71 44 537 524\n",
      "71 7 587 561\n",
      "71 44 535 524\n",
      "193 102 296 301\n",
      "193 107 296 296\n",
      "71 44 539 524\n",
      "0 0 660 627\n",
      "71 44 532 524\n",
      "71 7 588 620\n",
      "133 58 452 511\n",
      "446 441 139 128\n",
      "1 7 658 620\n",
      "71 44 534 524\n",
      "71 44 536 524\n",
      "71 7 588 561\n",
      "71 15 548 553\n",
      "138 59 376 317\n",
      "73 58 512 512\n",
      "441 441 144 128\n",
      "71 44 538 524\n",
      "71 18 548 550\n"
     ]
    }
   ],
   "source": [
    "# -*- coding: utf-8 -*-\n",
    "# źródło: https://github.com/AlpacaDB/selectivesearch \n",
    "from __future__ import (\n",
    "    division,\n",
    "    print_function,\n",
    ")\n",
    "\n",
    "import skimage.data\n",
    "import matplotlib.pyplot as plt\n",
    "import matplotlib.patches as mpatches\n",
    "import selectivesearch\n",
    "\n",
    "\n",
    "def main():\n",
    "    # perform selective search\n",
    "    img_lbl, regions = selectivesearch.selective_search(\n",
    "        img, scale=500, sigma=0.9, min_size=10)\n",
    "\n",
    "    candidates = set()\n",
    "    for r in regions:\n",
    "        # excluding same rectangle (with different segments)\n",
    "        if r['rect'] in candidates:\n",
    "            continue\n",
    "        # excluding regions smaller than 2000 pixels\n",
    "        if r['size'] < 2000:\n",
    "            continue\n",
    "        # distorted rects\n",
    "        x, y, w, h = r['rect']\n",
    "        if w / h > 1.2 or h / w > 1.2:\n",
    "            continue\n",
    "        candidates.add(r['rect'])\n",
    "\n",
    "    # draw rectangles on the original image\n",
    "    # fig, ax = plt.subplots(ncols=1, nrows=1, figsize=(6, 6))\n",
    "    # ax.imshow(img)\n",
    "    for x, y, w, h in candidates:\n",
    "        print(x, y, w, h)\n",
    "        rect = mpatches.Rectangle(\n",
    "            (x, y), w, h, fill=False, edgecolor='red', linewidth=1)\n",
    "        # ax.add_patch(rect)\n",
    "\n",
    "    # plt.show()\n",
    "\n",
    "if __name__ == \"__main__\":\n",
    "    main()"
   ]
  },
  {
   "cell_type": "code",
   "execution_count": null,
   "id": "ef45ddaa",
   "metadata": {},
   "outputs": [],
   "source": []
  }
 ],
 "metadata": {
  "kernelspec": {
   "display_name": "Python 3",
   "language": "python",
   "name": "python3"
  },
  "language_info": {
   "codemirror_mode": {
    "name": "ipython",
    "version": 3
   },
   "file_extension": ".py",
   "mimetype": "text/x-python",
   "name": "python",
   "nbconvert_exporter": "python",
   "pygments_lexer": "ipython3",
   "version": "3.8.8"
  }
 },
 "nbformat": 4,
 "nbformat_minor": 5
}
